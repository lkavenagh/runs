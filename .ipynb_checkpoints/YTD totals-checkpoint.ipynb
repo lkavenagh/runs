{
 "cells": [
  {
   "cell_type": "code",
   "execution_count": 30,
   "metadata": {
    "collapsed": true
   },
   "outputs": [],
   "source": [
    "import os\n",
    "import psycopg2\n",
    "\n",
    "import pandas as pd\n",
    "import matplotlib.pyplot as plt\n",
    "\n",
    "import seaborn as sns\n",
    "\n",
    "os.chdir(r'C:\\users\\barby\\downloads')\n",
    "\n",
    "#%%\n",
    "def dbGetQuery(q):\n",
    "    pw = pd.read_table(r'c:\\users\\barby\\documents\\config.txt', header = None)[0].item().split('=')[1]\n",
    "    conn_string = \"host='kavdb.c9lrodma91yx.us-west-2.rds.amazonaws.com' dbname='kavdb' user='lkavenagh' password='\" + pw + \"'\"\n",
    "    conn = psycopg2.connect(conn_string)\n",
    "    conn.autocommit = True\n",
    "    dat = pd.read_sql(q, conn)\n",
    "    conn.close()\n",
    "    return(dat)"
   ]
  },
  {
   "cell_type": "code",
   "execution_count": 3,
   "metadata": {
    "collapsed": true
   },
   "outputs": [],
   "source": [
    "dat = dbGetQuery(\"SELECT * FROM runs.activities\")"
   ]
  },
  {
   "cell_type": "code",
   "execution_count": 4,
   "metadata": {},
   "outputs": [
    {
     "data": {
      "text/html": [
       "<div>\n",
       "<style>\n",
       "    .dataframe thead tr:only-child th {\n",
       "        text-align: right;\n",
       "    }\n",
       "\n",
       "    .dataframe thead th {\n",
       "        text-align: left;\n",
       "    }\n",
       "\n",
       "    .dataframe tbody tr th {\n",
       "        vertical-align: top;\n",
       "    }\n",
       "</style>\n",
       "<table border=\"1\" class=\"dataframe\">\n",
       "  <thead>\n",
       "    <tr style=\"text-align: right;\">\n",
       "      <th></th>\n",
       "      <th>date</th>\n",
       "      <th>activity_type</th>\n",
       "      <th>title</th>\n",
       "      <th>distance</th>\n",
       "      <th>calories</th>\n",
       "      <th>duration_seconds</th>\n",
       "      <th>avg_hr</th>\n",
       "      <th>max_hr</th>\n",
       "      <th>avg_cadence</th>\n",
       "      <th>max_cadence</th>\n",
       "      <th>avg_pace</th>\n",
       "      <th>best_pace</th>\n",
       "      <th>elev_gain</th>\n",
       "      <th>elev_loss</th>\n",
       "      <th>avg_stride_length</th>\n",
       "    </tr>\n",
       "  </thead>\n",
       "  <tbody>\n",
       "    <tr>\n",
       "      <th>0</th>\n",
       "      <td>2018-03-20 18:18:39</td>\n",
       "      <td>running</td>\n",
       "      <td>New York Running</td>\n",
       "      <td>8.63</td>\n",
       "      <td>883.0</td>\n",
       "      <td>4201.0</td>\n",
       "      <td>NaN</td>\n",
       "      <td>NaN</td>\n",
       "      <td>152.0</td>\n",
       "      <td>159.0</td>\n",
       "      <td>492.0</td>\n",
       "      <td>353.0</td>\n",
       "      <td>55.0</td>\n",
       "      <td>68.0</td>\n",
       "      <td>1.29</td>\n",
       "    </tr>\n",
       "    <tr>\n",
       "      <th>1</th>\n",
       "      <td>2018-03-17 09:06:34</td>\n",
       "      <td>running</td>\n",
       "      <td>New York Running</td>\n",
       "      <td>3.92</td>\n",
       "      <td>402.0</td>\n",
       "      <td>2278.0</td>\n",
       "      <td>NaN</td>\n",
       "      <td>NaN</td>\n",
       "      <td>153.0</td>\n",
       "      <td>165.0</td>\n",
       "      <td>581.0</td>\n",
       "      <td>467.0</td>\n",
       "      <td>95.0</td>\n",
       "      <td>112.0</td>\n",
       "      <td>1.08</td>\n",
       "    </tr>\n",
       "    <tr>\n",
       "      <th>2</th>\n",
       "      <td>2018-03-15 18:26:14</td>\n",
       "      <td>running</td>\n",
       "      <td>New York Running</td>\n",
       "      <td>5.77</td>\n",
       "      <td>594.0</td>\n",
       "      <td>2828.0</td>\n",
       "      <td>NaN</td>\n",
       "      <td>NaN</td>\n",
       "      <td>153.0</td>\n",
       "      <td>159.0</td>\n",
       "      <td>490.0</td>\n",
       "      <td>419.0</td>\n",
       "      <td>13.0</td>\n",
       "      <td>28.0</td>\n",
       "      <td>1.29</td>\n",
       "    </tr>\n",
       "    <tr>\n",
       "      <th>3</th>\n",
       "      <td>2018-03-14 18:07:51</td>\n",
       "      <td>running</td>\n",
       "      <td>New York Running</td>\n",
       "      <td>5.50</td>\n",
       "      <td>565.0</td>\n",
       "      <td>2636.0</td>\n",
       "      <td>NaN</td>\n",
       "      <td>NaN</td>\n",
       "      <td>153.0</td>\n",
       "      <td>162.0</td>\n",
       "      <td>480.0</td>\n",
       "      <td>415.0</td>\n",
       "      <td>38.0</td>\n",
       "      <td>40.0</td>\n",
       "      <td>1.31</td>\n",
       "    </tr>\n",
       "    <tr>\n",
       "      <th>4</th>\n",
       "      <td>2018-03-12 17:55:28</td>\n",
       "      <td>running</td>\n",
       "      <td>New York Running</td>\n",
       "      <td>5.62</td>\n",
       "      <td>576.0</td>\n",
       "      <td>2765.0</td>\n",
       "      <td>NaN</td>\n",
       "      <td>NaN</td>\n",
       "      <td>151.0</td>\n",
       "      <td>157.0</td>\n",
       "      <td>492.0</td>\n",
       "      <td>197.0</td>\n",
       "      <td>24.0</td>\n",
       "      <td>31.0</td>\n",
       "      <td>1.30</td>\n",
       "    </tr>\n",
       "  </tbody>\n",
       "</table>\n",
       "</div>"
      ],
      "text/plain": [
       "                 date activity_type             title  distance  calories  \\\n",
       "0 2018-03-20 18:18:39       running  New York Running      8.63     883.0   \n",
       "1 2018-03-17 09:06:34       running  New York Running      3.92     402.0   \n",
       "2 2018-03-15 18:26:14       running  New York Running      5.77     594.0   \n",
       "3 2018-03-14 18:07:51       running  New York Running      5.50     565.0   \n",
       "4 2018-03-12 17:55:28       running  New York Running      5.62     576.0   \n",
       "\n",
       "   duration_seconds  avg_hr  max_hr  avg_cadence  max_cadence  avg_pace  \\\n",
       "0            4201.0     NaN     NaN        152.0        159.0     492.0   \n",
       "1            2278.0     NaN     NaN        153.0        165.0     581.0   \n",
       "2            2828.0     NaN     NaN        153.0        159.0     490.0   \n",
       "3            2636.0     NaN     NaN        153.0        162.0     480.0   \n",
       "4            2765.0     NaN     NaN        151.0        157.0     492.0   \n",
       "\n",
       "   best_pace  elev_gain  elev_loss  avg_stride_length  \n",
       "0      353.0       55.0       68.0               1.29  \n",
       "1      467.0       95.0      112.0               1.08  \n",
       "2      419.0       13.0       28.0               1.29  \n",
       "3      415.0       38.0       40.0               1.31  \n",
       "4      197.0       24.0       31.0               1.30  "
      ]
     },
     "execution_count": 4,
     "metadata": {},
     "output_type": "execute_result"
    }
   ],
   "source": [
    "dat.head()"
   ]
  },
  {
   "cell_type": "code",
   "execution_count": 26,
   "metadata": {
    "collapsed": true
   },
   "outputs": [],
   "source": [
    "dat['year'] = [c.year for c in dat.date]\n",
    "dat['doy'] = [c.timetuple().tm_yday for c in dat.date]\n",
    "dat = dat.sort_values('date')\n"
   ]
  },
  {
   "cell_type": "code",
   "execution_count": 18,
   "metadata": {},
   "outputs": [],
   "source": [
    "dat['ytd_distance'] = dat.groupby('year', as_index = False).cumsum()['distance']\n"
   ]
  },
  {
   "cell_type": "code",
   "execution_count": 58,
   "metadata": {},
   "outputs": [
    {
     "data": {
      "image/png": "[encoded data removed]",
      "text/plain": [
       "<matplotlib.figure.Figure at 0xb9d0bae10>"
      ]
     },
     "execution_count": 58,
     "metadata": {},
     "output_type": "execute_result"
    }
   ],
   "source": [
    "fig, ax = plt.subplots()\n",
    "\n",
    "target = 800\n",
    "\n",
    "colors = ['red', 'orange', 'blue', 'green', 'cyan', 'magenta', 'black']\n",
    "\n",
    "for i,y in enumerate(sorted(list(set(dat.year)))):\n",
    "    ax.plot(dat.loc[dat.year == y, 'doy'], \n",
    "            dat.loc[dat.year == y, 'ytd_distance'], \n",
    "            color = colors[i],\n",
    "            label = y)\n",
    "\n",
    "x = range(int(ax.get_xlim()[1]))\n",
    "y = [(target / ax.get_xlim()[1]) * x for x in x]\n",
    "ax.plot(x, y, color = 'black', ls = '--', label = 'Target', linewidth = 0.5)\n",
    "ax.legend(loc = 'best', frameon = False)\n",
    "fig"
   ]
  },
  {
   "cell_type": "code",
   "execution_count": 49,
   "metadata": {},
   "outputs": [
    {
     "data": {
      "text/plain": [
       "[2012, 2013, 2014, 2015, 2016, 2017, 2018]"
      ]
     },
     "execution_count": 49,
     "metadata": {},
     "output_type": "execute_result"
    }
   ],
   "source": [
    "sorted(list(set(dat.year)))"
   ]
  }
 ],
 "metadata": {
  "kernelspec": {
   "display_name": "Python 3",
   "language": "python",
   "name": "python3"
  },
  "language_info": {
   "codemirror_mode": {
    "name": "ipython",
    "version": 3
   },
   "file_extension": ".py",
   "mimetype": "text/x-python",
   "name": "python",
   "nbconvert_exporter": "python",
   "pygments_lexer": "ipython3",
   "version": "3.6.2"
  }
 },
 "nbformat": 4,
 "nbformat_minor": 2
}
